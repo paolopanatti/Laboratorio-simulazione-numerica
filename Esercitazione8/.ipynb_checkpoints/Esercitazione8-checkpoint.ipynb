{
 "cells": [
  {
   "cell_type": "markdown",
   "id": "93a73e96-80a1-4f15-a7f6-b3c52407d4b0",
   "metadata": {},
   "source": [
    "# <span style=\"color:orange\"> Laboratorio di Simulazione Numerica </span>\n",
    "## <span style=\"color:orange\"> Esercitazione 8 </span>"
   ]
  },
  {
   "cell_type": "markdown",
   "id": "d40bce19-4fc6-44db-ac20-530131d16277",
   "metadata": {},
   "source": [
    "### Paolo Panatti (12606A)"
   ]
  },
  {
   "cell_type": "markdown",
   "id": "52d03b0f-64de-4190-a6b3-f815d0806790",
   "metadata": {},
   "source": [
    "### Esercizio 08.1"
   ]
  },
  {
   "cell_type": "markdown",
   "id": "37a8a7a6-554b-4b12-836f-474a150f2ec8",
   "metadata": {},
   "source": [
    "### Esercizio 08.2"
   ]
  },
  {
   "cell_type": "code",
   "execution_count": null,
   "id": "9dcb03ff-a283-4077-b130-2cba2564f47b",
   "metadata": {},
   "outputs": [],
   "source": []
  }
 ],
 "metadata": {
  "kernelspec": {
   "display_name": "Python [conda env:base] *",
   "language": "python",
   "name": "conda-base-py"
  },
  "language_info": {
   "codemirror_mode": {
    "name": "ipython",
    "version": 3
   },
   "file_extension": ".py",
   "mimetype": "text/x-python",
   "name": "python",
   "nbconvert_exporter": "python",
   "pygments_lexer": "ipython3",
   "version": "3.12.7"
  }
 },
 "nbformat": 4,
 "nbformat_minor": 5
}
